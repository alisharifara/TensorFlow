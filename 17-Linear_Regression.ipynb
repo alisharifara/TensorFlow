{
 "cells": [
  {
   "cell_type": "code",
   "execution_count": 493,
   "metadata": {},
   "outputs": [],
   "source": [
    "from __future__ import print_function\n",
    "\n",
    "import math\n",
    "import numpy as np\n",
    "import pandas as pd\n",
    "\n",
    "import tensorflow as tf\n",
    "from tensorflow.python.data import Dataset\n",
    "\n",
    "from IPython import display\n",
    "\n",
    "from matplotlib import cm\n",
    "from matplotlib import gridspec\n",
    "from matplotlib import pyplot as plt\n",
    "\n",
    "from sklearn import metrics\n",
    "from sklearn.utils import shuffle\n",
    "\n",
    "tf.logging.set_verbosity(tf.logging.ERROR)"
   ]
  },
  {
   "cell_type": "code",
   "execution_count": 513,
   "metadata": {},
   "outputs": [],
   "source": [
    "house_price_df = pd.read_csv('../datasets/housing-prices-dataset/train.csv')\n",
    "house_price_df = shuffle(house_price_df)"
   ]
  },
  {
   "cell_type": "code",
   "execution_count": 495,
   "metadata": {},
   "outputs": [
    {
     "name": "stdout",
     "output_type": "stream",
     "text": [
      "        Id  MSSubClass MSZoning  LotFrontage  LotArea Street Alley LotShape  \\\n",
      "290    291          60       RL        120.0    15611   Pave   NaN      Reg   \n",
      "764    765         120       RL         30.0     9549   Pave   NaN      IR1   \n",
      "681    682          50       RH         55.0     4500   Pave  Pave      IR2   \n",
      "1024  1025          20       RL          NaN    15498   Pave   NaN      IR1   \n",
      "858    859          20       RL         80.0    10400   Pave   NaN      Reg   \n",
      "\n",
      "     LandContour Utilities  ... PoolArea PoolQC  Fence MiscFeature MiscVal  \\\n",
      "290          Lvl    AllPub  ...        0    NaN    NaN         NaN       0   \n",
      "764          Lvl    AllPub  ...        0    NaN    NaN         NaN       0   \n",
      "681          Bnk    AllPub  ...        0    NaN    NaN         NaN       0   \n",
      "1024         Lvl    AllPub  ...        0    NaN    NaN         NaN       0   \n",
      "858          Lvl    AllPub  ...        0    NaN  MnPrv         NaN       0   \n",
      "\n",
      "     MoSold YrSold  SaleType  SaleCondition  SalePrice  \n",
      "290       7   2006       New        Partial     233230  \n",
      "764       4   2006        WD         Normal     270000  \n",
      "681       7   2009        WD        Abnorml     159434  \n",
      "1024      5   2008       COD        Abnorml     287000  \n",
      "858       6   2009        WD         Family     152000  \n",
      "\n",
      "[5 rows x 81 columns]\n"
     ]
    }
   ],
   "source": [
    "print(house_price_df.head())"
   ]
  },
  {
   "cell_type": "code",
   "execution_count": 496,
   "metadata": {},
   "outputs": [
    {
     "name": "stdout",
     "output_type": "stream",
     "text": [
      "Index(['Id', 'MSSubClass', 'MSZoning', 'LotFrontage', 'LotArea', 'Street',\n",
      "       'Alley', 'LotShape', 'LandContour', 'Utilities', 'LotConfig',\n",
      "       'LandSlope', 'Neighborhood', 'Condition1', 'Condition2', 'BldgType',\n",
      "       'HouseStyle', 'OverallQual', 'OverallCond', 'YearBuilt', 'YearRemodAdd',\n",
      "       'RoofStyle', 'RoofMatl', 'Exterior1st', 'Exterior2nd', 'MasVnrType',\n",
      "       'MasVnrArea', 'ExterQual', 'ExterCond', 'Foundation', 'BsmtQual',\n",
      "       'BsmtCond', 'BsmtExposure', 'BsmtFinType1', 'BsmtFinSF1',\n",
      "       'BsmtFinType2', 'BsmtFinSF2', 'BsmtUnfSF', 'TotalBsmtSF', 'Heating',\n",
      "       'HeatingQC', 'CentralAir', 'Electrical', '1stFlrSF', '2ndFlrSF',\n",
      "       'LowQualFinSF', 'GrLivArea', 'BsmtFullBath', 'BsmtHalfBath', 'FullBath',\n",
      "       'HalfBath', 'BedroomAbvGr', 'KitchenAbvGr', 'KitchenQual',\n",
      "       'TotRmsAbvGrd', 'Functional', 'Fireplaces', 'FireplaceQu', 'GarageType',\n",
      "       'GarageYrBlt', 'GarageFinish', 'GarageCars', 'GarageArea', 'GarageQual',\n",
      "       'GarageCond', 'PavedDrive', 'WoodDeckSF', 'OpenPorchSF',\n",
      "       'EnclosedPorch', '3SsnPorch', 'ScreenPorch', 'PoolArea', 'PoolQC',\n",
      "       'Fence', 'MiscFeature', 'MiscVal', 'MoSold', 'YrSold', 'SaleType',\n",
      "       'SaleCondition', 'SalePrice'],\n",
      "      dtype='object')\n"
     ]
    }
   ],
   "source": [
    "print(house_price_df.columns)"
   ]
  },
  {
   "cell_type": "code",
   "execution_count": 497,
   "metadata": {},
   "outputs": [],
   "source": [
    "housing_features_df = house_price_df[['GrLivArea']]\n",
    "housing_targets_df = house_price_df[['SalePrice']]"
   ]
  },
  {
   "cell_type": "code",
   "execution_count": 498,
   "metadata": {},
   "outputs": [],
   "source": [
    "# split data into training, validation, and testing\n",
    "training_examples = housing_features_df[0:1000]\n",
    "training_targets = housing_features_df[0:1000]\n",
    "\n",
    "validation_examples = housing_features_df[1001:1100]\n",
    "validation_targets = housing_features_df[1001:1100]\n",
    "\n",
    "testing_examples = housing_features_df[1101:1460]\n",
    "testing_targets = housing_features_df[1101:1460]"
   ]
  },
  {
   "cell_type": "code",
   "execution_count": 499,
   "metadata": {},
   "outputs": [
    {
     "data": {
      "text/plain": [
       "(1460, 1)"
      ]
     },
     "execution_count": 499,
     "metadata": {},
     "output_type": "execute_result"
    }
   ],
   "source": [
    "housing_features_df.shape"
   ]
  },
  {
   "cell_type": "code",
   "execution_count": 500,
   "metadata": {},
   "outputs": [],
   "source": [
    "# numeric feature column\n",
    "my_feature_columns = [tf.feature_column.numeric_column('GrLivArea')]\n",
    "\n",
    "# define learning rate\n",
    "learning_rate = 0.1\n",
    "\n",
    "# define an optimizer\n",
    "my_optimizer = tf.train.GradientDescentOptimizer(learning_rate=learning_rate)\n",
    "my_optimizer = tf.contrib.estimator.clip_gradients_by_norm(my_optimizer, 0.5)\n",
    "\n",
    "model = tf.estimator.LinearRegressor(feature_columns=my_feature_columns, \n",
    "                                     optimizer=my_optimizer)"
   ]
  },
  {
   "cell_type": "code",
   "execution_count": 501,
   "metadata": {},
   "outputs": [],
   "source": [
    "def my_input_fn(features, target, batch_size=1, shuffle=True, num_epochs=None):\n",
    "    \n",
    "    # convert pandas dataframe into dictionary of np arrays\n",
    "    features = {key:np.array(value) for key, value in dict(features).items()}\n",
    "    \n",
    "    # construct a dataset\n",
    "    ds = Dataset.from_tensor_slices((features,target))\n",
    "    ds = ds.batch(batch_size).repeat(num_epochs)\n",
    "    \n",
    "    # shuffle the data\n",
    "    if shuffle:\n",
    "        ds = ds.shuffle(buffer_size=1000)\n",
    "        \n",
    "    # return the next batch of data\n",
    "    features, labels = ds.make_one_shot_iterator().get_next()\n",
    "    \n",
    "    return features, labels"
   ]
  },
  {
   "cell_type": "code",
   "execution_count": 502,
   "metadata": {},
   "outputs": [],
   "source": [
    "_ = model.train(input_fn=lambda:my_input_fn(training_exampels,training_targets), steps=1000)"
   ]
  },
  {
   "cell_type": "code",
   "execution_count": 503,
   "metadata": {},
   "outputs": [],
   "source": [
    "# evaluating model with RMSE\n",
    "train_predictions = model.predict(input_fn=lambda: my_input_fn(training_exampels,\n",
    "                                                                 training_targets, \n",
    "                                                                 num_epochs=1, \n",
    "                                                                 shuffle=False))\n",
    "                                                                 \n",
    "val_predictions = model.predict(input_fn=lambda: my_input_fn(validation_examples,\n",
    "                                                                 validation_targets,\n",
    "                                                                 num_epochs=1,\n",
    "                                                                 shuffle=False))\n",
    "\n",
    "test_predictions = model.predict(input_fn=lambda: my_input_fn(testing_examples,\n",
    "                                                                 testing_targets,\n",
    "                                                                 num_epochs=1,\n",
    "                                                                 shuffle=False))\n",
    "                                                                 "
   ]
  },
  {
   "cell_type": "code",
   "execution_count": 504,
   "metadata": {},
   "outputs": [],
   "source": [
    "# format the predictions as numpy array, then we can calculate the error metrics\n",
    "train_predictions = np.array([item['predictions'][0] for item in train_predictions])\n",
    "val_predictions = np.array([item['predictions'][0] for item in val_predictions])\n",
    "test_predictions = np.array([item['predictions'][0] for item in test_predictions])"
   ]
  },
  {
   "cell_type": "code",
   "execution_count": 505,
   "metadata": {},
   "outputs": [],
   "source": [
    "mean_squared_error = metrics.mean_squared_error(train_predictions, training_targets)\n",
    "root_mean_squared_error = math.sqrt(mean_squared_error)\n",
    "\n",
    "mean_squared_error = metrics.mean_squared_error(val_predictions, validation_targets)\n",
    "root_mean_squared_error = math.sqrt(mean_squared_error)\n",
    "\n",
    "mean_squared_error = metrics.mean_squared_error(test_predictions, testing_targets)\n",
    "root_mean_squared_error = math.sqrt(mean_squared_error)"
   ]
  },
  {
   "cell_type": "code",
   "execution_count": 506,
   "metadata": {},
   "outputs": [
    {
     "name": "stdout",
     "output_type": "stream",
     "text": [
      "root mean squared error (RMSE) on VALIDATION data: 1.59e+02\n",
      "root mean squared error (RMSE) on TRAINING data: 159.408\n",
      "root mean squared error (RMSE) on TESTING data: 1.59e+02\n"
     ]
    }
   ],
   "source": [
    "print('root mean squared error (RMSE) on VALIDATION data: {:0.3}'.format(root_mean_squared_error))\n",
    "print(\"root mean squared error (RMSE) on TRAINING data: {:0.3f}\".format(root_mean_squared_error))\n",
    "print('root mean squared error (RMSE) on TESTING data: {:0.3}'.format(root_mean_squared_error))"
   ]
  },
  {
   "cell_type": "code",
   "execution_count": 507,
   "metadata": {},
   "outputs": [],
   "source": [
    "train_sample = housing_df[0:1000].sample(30)\n",
    "val_sample = housing_df[1001:1100].sample(10)\n",
    "test_sample = housing_df[1101:1460].sample(10)"
   ]
  },
  {
   "cell_type": "code",
   "execution_count": 508,
   "metadata": {},
   "outputs": [],
   "source": [
    "# get the min and max total_rooms values\n",
    "x0 = train_sample['GrLivArea'].min()\n",
    "x1 = train_sample['GrLivArea'].max()"
   ]
  },
  {
   "cell_type": "code",
   "execution_count": 509,
   "metadata": {},
   "outputs": [],
   "source": [
    "# Final weight and width and bias generated during training\n",
    "weight = model.get_variable_value('linear/linear_model/GrLivArea/weights')[0]\n",
    "bias = model.get_variable_value('linear/linear_model/bias_weights')[0]"
   ]
  },
  {
   "cell_type": "code",
   "execution_count": 510,
   "metadata": {},
   "outputs": [],
   "source": [
    "# get the predicted median_house_values for min and max of total_rooms \n",
    "y0 = weight * x0 + bias\n",
    "y1 = weight * x1 + bias"
   ]
  },
  {
   "cell_type": "code",
   "execution_count": 511,
   "metadata": {},
   "outputs": [
    {
     "data": {
      "text/plain": [
       "Text(0, 0.5, 'SalePrice')"
      ]
     },
     "execution_count": 511,
     "metadata": {},
     "output_type": "execute_result"
    },
    {
     "data": {
      "image/png": "[encoded data removed]",
      "text/plain": [
       "<Figure size 432x288 with 1 Axes>"
      ]
     },
     "metadata": {
      "needs_background": "light"
     },
     "output_type": "display_data"
    }
   ],
   "source": [
    "plt.plot([x0,x1],[y0, y1], c='b')\n",
    "plt.xlabel('GrLivArea')\n",
    "plt.ylabel('SalePrice')"
   ]
  },
  {
   "cell_type": "code",
   "execution_count": 512,
   "metadata": {},
   "outputs": [
    {
     "data": {
      "image/png": "[encoded data removed]",
      "text/plain": [
       "<Figure size 432x288 with 1 Axes>"
      ]
     },
     "metadata": {
      "needs_background": "light"
     },
     "output_type": "display_data"
    }
   ],
   "source": [
    "plt.plot([x0,x1],[y0, y1], c='b')\n",
    "plt.xlabel('GrLivArea')\n",
    "plt.ylabel('SalePrice')\n",
    "\n",
    "plt.scatter(train_sample['GrLivArea'], train_sample['SalePrice'])\n",
    "plt.scatter(val_sample['GrLivArea'], val_sample['SalePrice'])\n",
    "plt.scatter(test_sample['GrLivArea'], test_sample['SalePrice'])\n",
    "plt.show()"
   ]
  },
  {
   "cell_type": "code",
   "execution_count": null,
   "metadata": {},
   "outputs": [],
   "source": []
  },
  {
   "cell_type": "code",
   "execution_count": null,
   "metadata": {},
   "outputs": [],
   "source": []
  }
 ],
 "metadata": {
  "kernelspec": {
   "display_name": "Python 3",
   "language": "python",
   "name": "python3"
  },
  "language_info": {
   "codemirror_mode": {
    "name": "ipython",
    "version": 3
   },
   "file_extension": ".py",
   "mimetype": "text/x-python",
   "name": "python",
   "nbconvert_exporter": "python",
   "pygments_lexer": "ipython3",
   "version": "3.6.8"
  }
 },
 "nbformat": 4,
 "nbformat_minor": 2
}
